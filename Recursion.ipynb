{
 "cells": [
  {
   "cell_type": "code",
   "execution_count": 11,
   "id": "39d5f549",
   "metadata": {},
   "outputs": [],
   "source": [
    "# Factorial of a number\n",
    "def factorial(n):\n",
    "    assert n>=0 and int(n)==n\n",
    "    if n in [0,1]:\n",
    "        return 1\n",
    "    else:\n",
    "        return n*factorial(n-1)"
   ]
  },
  {
   "cell_type": "code",
   "execution_count": 14,
   "id": "48cc1d49",
   "metadata": {},
   "outputs": [
    {
     "data": {
      "text/plain": [
       "120"
      ]
     },
     "execution_count": 14,
     "metadata": {},
     "output_type": "execute_result"
    }
   ],
   "source": [
    "factorial(5)"
   ]
  },
  {
   "cell_type": "code",
   "execution_count": 15,
   "id": "a4cc5360",
   "metadata": {},
   "outputs": [],
   "source": [
    "# Fibonacci\n",
    "def fibonacci(n):\n",
    "    assert n>=0 and int(n)==n # fibonacci should be positive integer only\n",
    "    if n in [0,1]:\n",
    "        return n\n",
    "    else:\n",
    "        return fibonacci(n-1) + fibonacci(n-2)"
   ]
  },
  {
   "cell_type": "code",
   "execution_count": 19,
   "id": "db3b3ce8",
   "metadata": {},
   "outputs": [
    {
     "data": {
      "text/plain": [
       "55"
      ]
     },
     "execution_count": 19,
     "metadata": {},
     "output_type": "execute_result"
    }
   ],
   "source": [
    "fibonacci(10)"
   ]
  },
  {
   "cell_type": "code",
   "execution_count": 20,
   "id": "ed8059dd",
   "metadata": {},
   "outputs": [],
   "source": [
    "def sumofdigits(n):\n",
    "    assert n>=0 and int(n)==n\n",
    "    if n ==0:\n",
    "        return 0\n",
    "    else:\n",
    "        return int(n%10)+sumofdigits(int(n/10))"
   ]
  },
  {
   "cell_type": "code",
   "execution_count": 21,
   "id": "3fa1d18a",
   "metadata": {},
   "outputs": [
    {
     "data": {
      "text/plain": [
       "17"
      ]
     },
     "execution_count": 21,
     "metadata": {},
     "output_type": "execute_result"
    }
   ],
   "source": [
    "sumofdigits(98)"
   ]
  },
  {
   "cell_type": "code",
   "execution_count": 22,
   "id": "886523d3",
   "metadata": {},
   "outputs": [],
   "source": [
    "# power\n",
    "def power(base,exp):\n",
    "    assert exp>=0 and int(exp)==exp\n",
    "    if exp==0:\n",
    "        return 1\n",
    "    elif exp==1:\n",
    "        return base\n",
    "    else:\n",
    "        return base*power(base,exp-1)"
   ]
  },
  {
   "cell_type": "code",
   "execution_count": 23,
   "id": "01dd97f9",
   "metadata": {},
   "outputs": [
    {
     "data": {
      "text/plain": [
       "16"
      ]
     },
     "execution_count": 23,
     "metadata": {},
     "output_type": "execute_result"
    }
   ],
   "source": [
    "power(2,4)"
   ]
  },
  {
   "cell_type": "code",
   "execution_count": 28,
   "id": "3e9310be",
   "metadata": {},
   "outputs": [],
   "source": [
    "# GCD\n",
    "def gcd(a,b):\n",
    "    assert int(a)==a and int(b)==b\n",
    "    if a<0:\n",
    "        a= -1*a\n",
    "    if b<0:\n",
    "        b= -1*b\n",
    "    if b==0:\n",
    "        return a\n",
    "    else:\n",
    "        return gcd(b,a%b)"
   ]
  },
  {
   "cell_type": "code",
   "execution_count": 29,
   "id": "c8488fcb",
   "metadata": {},
   "outputs": [
    {
     "data": {
      "text/plain": [
       "6"
      ]
     },
     "execution_count": 29,
     "metadata": {},
     "output_type": "execute_result"
    }
   ],
   "source": [
    "gcd(48,-18)"
   ]
  },
  {
   "cell_type": "code",
   "execution_count": 32,
   "id": "b2f56839",
   "metadata": {},
   "outputs": [],
   "source": [
    "def decimaltobinary(n):\n",
    "    assert int(n)==n\n",
    "    if n==0:\n",
    "        return 1\n",
    "    else:\n",
    "        return n%2 +10 *decimaltobinary(int(n/2))"
   ]
  },
  {
   "cell_type": "code",
   "execution_count": 33,
   "id": "63ce532c",
   "metadata": {},
   "outputs": [
    {
     "data": {
      "text/plain": [
       "11010"
      ]
     },
     "execution_count": 33,
     "metadata": {},
     "output_type": "execute_result"
    }
   ],
   "source": [
    "decimaltobinary(10)"
   ]
  },
  {
   "cell_type": "code",
   "execution_count": null,
   "id": "bdff236e",
   "metadata": {},
   "outputs": [],
   "source": []
  }
 ],
 "metadata": {
  "kernelspec": {
   "display_name": "Python 3",
   "language": "python",
   "name": "python3"
  },
  "language_info": {
   "codemirror_mode": {
    "name": "ipython",
    "version": 3
   },
   "file_extension": ".py",
   "mimetype": "text/x-python",
   "name": "python",
   "nbconvert_exporter": "python",
   "pygments_lexer": "ipython3",
   "version": "3.8.8"
  }
 },
 "nbformat": 4,
 "nbformat_minor": 5
}
